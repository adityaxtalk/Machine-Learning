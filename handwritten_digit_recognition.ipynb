{
 "cells": [
  {
   "cell_type": "code",
   "execution_count": 2,
   "metadata": {},
   "outputs": [],
   "source": [
    "import numpy as np\n",
    "import pandas as pd\n",
    "import tensorflow as tf\n",
    "from tensorflow import keras\n",
    "import pandas as pd\n",
    "import warnings\n",
    "warnings.filterwarnings('ignore')"
   ]
  },
  {
   "cell_type": "code",
   "execution_count": 3,
   "metadata": {},
   "outputs": [
    {
     "name": "stdout",
     "output_type": "stream",
     "text": [
      "(1797, 64)\n"
     ]
    }
   ],
   "source": [
    "from sklearn.datasets import load_digits\n",
    "digits=load_digits()\n",
    "print(digits.data.shape)"
   ]
  },
  {
   "cell_type": "code",
   "execution_count": 4,
   "metadata": {},
   "outputs": [
    {
     "data": {
      "text/plain": [
       "<Figure size 432x288 with 0 Axes>"
      ]
     },
     "metadata": {},
     "output_type": "display_data"
    },
    {
     "data": {
      "image/png": "[encoded data removed]",
      "text/plain": [
       "<Figure size 288x288 with 1 Axes>"
      ]
     },
     "metadata": {
      "needs_background": "light"
     },
     "output_type": "display_data"
    }
   ],
   "source": [
    "import matplotlib.pyplot as plt\n",
    "plt.gray()\n",
    "plt.matshow(digits.images[1789])\n",
    "plt.show()"
   ]
  },
  {
   "cell_type": "code",
   "execution_count": 5,
   "metadata": {},
   "outputs": [
    {
     "data": {
      "text/plain": [
       "array([[ 0.,  0.,  5., 13.,  9.,  1.,  0.,  0.],\n",
       "       [ 0.,  0., 13., 15., 10., 15.,  5.,  0.],\n",
       "       [ 0.,  3., 15.,  2.,  0., 11.,  8.,  0.],\n",
       "       [ 0.,  4., 12.,  0.,  0.,  8.,  8.,  0.],\n",
       "       [ 0.,  5.,  8.,  0.,  0.,  9.,  8.,  0.],\n",
       "       [ 0.,  4., 11.,  0.,  1., 12.,  7.,  0.],\n",
       "       [ 0.,  2., 14.,  5., 10., 12.,  0.,  0.],\n",
       "       [ 0.,  0.,  6., 13., 10.,  0.,  0.,  0.]])"
      ]
     },
     "execution_count": 5,
     "metadata": {},
     "output_type": "execute_result"
    }
   ],
   "source": [
    "digits.images[0]"
   ]
  },
  {
   "cell_type": "code",
   "execution_count": 24,
   "metadata": {},
   "outputs": [],
   "source": [
    "X=digits.images.reshape((digits.images.shape[0],8,8,1))"
   ]
  },
  {
   "cell_type": "code",
   "execution_count": 25,
   "metadata": {},
   "outputs": [],
   "source": [
    "X_train_full=X[:1400]\n",
    "X_test=X[1400:]\n",
    "y_train=digits.target[:1400]\n",
    "y_test=digits.target[1400:]"
   ]
  },
  {
   "cell_type": "code",
   "execution_count": 26,
   "metadata": {},
   "outputs": [
    {
     "data": {
      "text/plain": [
       "array([[[ 0.],\n",
       "        [ 0.],\n",
       "        [ 5.],\n",
       "        [13.],\n",
       "        [ 9.],\n",
       "        [ 1.],\n",
       "        [ 0.],\n",
       "        [ 0.]],\n",
       "\n",
       "       [[ 0.],\n",
       "        [ 0.],\n",
       "        [13.],\n",
       "        [15.],\n",
       "        [10.],\n",
       "        [15.],\n",
       "        [ 5.],\n",
       "        [ 0.]],\n",
       "\n",
       "       [[ 0.],\n",
       "        [ 3.],\n",
       "        [15.],\n",
       "        [ 2.],\n",
       "        [ 0.],\n",
       "        [11.],\n",
       "        [ 8.],\n",
       "        [ 0.]],\n",
       "\n",
       "       [[ 0.],\n",
       "        [ 4.],\n",
       "        [12.],\n",
       "        [ 0.],\n",
       "        [ 0.],\n",
       "        [ 8.],\n",
       "        [ 8.],\n",
       "        [ 0.]],\n",
       "\n",
       "       [[ 0.],\n",
       "        [ 5.],\n",
       "        [ 8.],\n",
       "        [ 0.],\n",
       "        [ 0.],\n",
       "        [ 9.],\n",
       "        [ 8.],\n",
       "        [ 0.]],\n",
       "\n",
       "       [[ 0.],\n",
       "        [ 4.],\n",
       "        [11.],\n",
       "        [ 0.],\n",
       "        [ 1.],\n",
       "        [12.],\n",
       "        [ 7.],\n",
       "        [ 0.]],\n",
       "\n",
       "       [[ 0.],\n",
       "        [ 2.],\n",
       "        [14.],\n",
       "        [ 5.],\n",
       "        [10.],\n",
       "        [12.],\n",
       "        [ 0.],\n",
       "        [ 0.]],\n",
       "\n",
       "       [[ 0.],\n",
       "        [ 0.],\n",
       "        [ 6.],\n",
       "        [13.],\n",
       "        [10.],\n",
       "        [ 0.],\n",
       "        [ 0.],\n",
       "        [ 0.]]])"
      ]
     },
     "execution_count": 26,
     "metadata": {},
     "output_type": "execute_result"
    }
   ],
   "source": [
    "X_train_full[0]"
   ]
  },
  {
   "cell_type": "code",
   "execution_count": 27,
   "metadata": {},
   "outputs": [],
   "source": [
    "X_train_n=X_train_full.astype('float32')\n",
    "X_test_n=X_test.astype('float32')\n",
    "X_train=X_train_n/255.\n",
    "X_test=X_test_n/255."
   ]
  },
  {
   "cell_type": "code",
   "execution_count": 28,
   "metadata": {},
   "outputs": [],
   "source": [
    "model=keras.models.Sequential()"
   ]
  },
  {
   "cell_type": "code",
   "execution_count": 29,
   "metadata": {},
   "outputs": [],
   "source": [
    "model.add(keras.layers.Conv2D(32,(3,3),activation='relu',input_shape=(8,8,1)))"
   ]
  },
  {
   "cell_type": "code",
   "execution_count": 30,
   "metadata": {},
   "outputs": [],
   "source": [
    "model.add(keras.layers.MaxPooling2D(pool_size=(2,2)))"
   ]
  },
  {
   "cell_type": "code",
   "execution_count": 31,
   "metadata": {},
   "outputs": [],
   "source": [
    "model.add(keras.layers.Flatten())"
   ]
  },
  {
   "cell_type": "code",
   "execution_count": 32,
   "metadata": {},
   "outputs": [],
   "source": [
    "model.add(keras.layers.Dense(units=100,activation='relu'))"
   ]
  },
  {
   "cell_type": "code",
   "execution_count": 33,
   "metadata": {},
   "outputs": [],
   "source": [
    "model.add(keras.layers.Dense(units=10,activation='softmax'))"
   ]
  },
  {
   "cell_type": "code",
   "execution_count": 34,
   "metadata": {},
   "outputs": [
    {
     "name": "stdout",
     "output_type": "stream",
     "text": [
      "Model: \"sequential_1\"\n",
      "_________________________________________________________________\n",
      "Layer (type)                 Output Shape              Param #   \n",
      "=================================================================\n",
      "conv2d_1 (Conv2D)            (None, 6, 6, 32)          320       \n",
      "_________________________________________________________________\n",
      "max_pooling2d_1 (MaxPooling2 (None, 3, 3, 32)          0         \n",
      "_________________________________________________________________\n",
      "flatten_1 (Flatten)          (None, 288)               0         \n",
      "_________________________________________________________________\n",
      "dense_2 (Dense)              (None, 100)               28900     \n",
      "_________________________________________________________________\n",
      "dense_3 (Dense)              (None, 10)                1010      \n",
      "=================================================================\n",
      "Total params: 30,230\n",
      "Trainable params: 30,230\n",
      "Non-trainable params: 0\n",
      "_________________________________________________________________\n"
     ]
    }
   ],
   "source": [
    "model.summary()"
   ]
  },
  {
   "cell_type": "code",
   "execution_count": 35,
   "metadata": {},
   "outputs": [
    {
     "data": {
      "image/png": "[encoded data removed]",
      "text/plain": [
       "<IPython.core.display.Image object>"
      ]
     },
     "execution_count": 35,
     "metadata": {},
     "output_type": "execute_result"
    }
   ],
   "source": [
    "import pydot\n",
    "keras.utils.plot_model(model)"
   ]
  },
  {
   "cell_type": "code",
   "execution_count": 36,
   "metadata": {},
   "outputs": [],
   "source": [
    "weights,biases=model.layers[3].get_weights()"
   ]
  },
  {
   "cell_type": "code",
   "execution_count": 37,
   "metadata": {},
   "outputs": [
    {
     "data": {
      "text/plain": [
       "array([[ 0.08465321, -0.10040881, -0.09504327, ..., -0.11978766,\n",
       "        -0.06918108,  0.02965074],\n",
       "       [-0.0362937 ,  0.09273862, -0.05231378, ..., -0.02432887,\n",
       "        -0.09129513, -0.07728741],\n",
       "       [-0.00931457,  0.05569997,  0.01706702, ...,  0.09461025,\n",
       "         0.09961572, -0.10372747],\n",
       "       ...,\n",
       "       [-0.02553345,  0.07215547,  0.06382156, ...,  0.0304893 ,\n",
       "        -0.08495404,  0.02291938],\n",
       "       [ 0.08962157,  0.06726738, -0.0652139 , ..., -0.02468096,\n",
       "        -0.01079018, -0.11373593],\n",
       "       [ 0.0917696 ,  0.0473787 , -0.05899324, ...,  0.11920252,\n",
       "        -0.01954371,  0.08389785]], dtype=float32)"
      ]
     },
     "execution_count": 37,
     "metadata": {},
     "output_type": "execute_result"
    }
   ],
   "source": [
    "weights"
   ]
  },
  {
   "cell_type": "code",
   "execution_count": 38,
   "metadata": {},
   "outputs": [
    {
     "data": {
      "text/plain": [
       "(288, 100)"
      ]
     },
     "execution_count": 38,
     "metadata": {},
     "output_type": "execute_result"
    }
   ],
   "source": [
    "weights.shape"
   ]
  },
  {
   "cell_type": "code",
   "execution_count": 39,
   "metadata": {},
   "outputs": [
    {
     "data": {
      "text/plain": [
       "array([0., 0., 0., 0., 0., 0., 0., 0., 0., 0., 0., 0., 0., 0., 0., 0., 0.,\n",
       "       0., 0., 0., 0., 0., 0., 0., 0., 0., 0., 0., 0., 0., 0., 0., 0., 0.,\n",
       "       0., 0., 0., 0., 0., 0., 0., 0., 0., 0., 0., 0., 0., 0., 0., 0., 0.,\n",
       "       0., 0., 0., 0., 0., 0., 0., 0., 0., 0., 0., 0., 0., 0., 0., 0., 0.,\n",
       "       0., 0., 0., 0., 0., 0., 0., 0., 0., 0., 0., 0., 0., 0., 0., 0., 0.,\n",
       "       0., 0., 0., 0., 0., 0., 0., 0., 0., 0., 0., 0., 0., 0., 0.],\n",
       "      dtype=float32)"
      ]
     },
     "execution_count": 39,
     "metadata": {},
     "output_type": "execute_result"
    }
   ],
   "source": [
    "biases"
   ]
  },
  {
   "cell_type": "code",
   "execution_count": 40,
   "metadata": {},
   "outputs": [],
   "source": [
    "\n",
    "model.compile(optimizer='sgd',loss='sparse_categorical_crossentropy',metrics=['accuracy'])"
   ]
  },
  {
   "cell_type": "code",
   "execution_count": 47,
   "metadata": {},
   "outputs": [
    {
     "name": "stdout",
     "output_type": "stream",
     "text": [
      "Epoch 1/100\n",
      "44/44 [==============================] - 0s 3ms/step - loss: 0.3196 - accuracy: 0.9314 - val_loss: 0.6139 - val_accuracy: 0.8438\n",
      "Epoch 2/100\n",
      "44/44 [==============================] - 0s 3ms/step - loss: 0.3175 - accuracy: 0.9250 - val_loss: 0.6145 - val_accuracy: 0.8388\n",
      "Epoch 3/100\n",
      "44/44 [==============================] - 0s 3ms/step - loss: 0.3150 - accuracy: 0.9314 - val_loss: 0.6182 - val_accuracy: 0.8438\n",
      "Epoch 4/100\n",
      "44/44 [==============================] - 0s 3ms/step - loss: 0.3141 - accuracy: 0.9336 - val_loss: 0.6095 - val_accuracy: 0.8413\n",
      "Epoch 5/100\n",
      "44/44 [==============================] - 0s 3ms/step - loss: 0.3111 - accuracy: 0.9286 - val_loss: 0.6046 - val_accuracy: 0.8514\n",
      "Epoch 6/100\n",
      "44/44 [==============================] - 0s 3ms/step - loss: 0.3100 - accuracy: 0.9314 - val_loss: 0.6077 - val_accuracy: 0.8413\n",
      "Epoch 7/100\n",
      "44/44 [==============================] - 0s 3ms/step - loss: 0.3082 - accuracy: 0.9321 - val_loss: 0.6082 - val_accuracy: 0.8413\n",
      "Epoch 8/100\n",
      "44/44 [==============================] - 0s 3ms/step - loss: 0.3072 - accuracy: 0.9336 - val_loss: 0.6068 - val_accuracy: 0.8438\n",
      "Epoch 9/100\n",
      "44/44 [==============================] - 0s 4ms/step - loss: 0.3055 - accuracy: 0.9314 - val_loss: 0.6018 - val_accuracy: 0.8489\n",
      "Epoch 10/100\n",
      "44/44 [==============================] - 0s 4ms/step - loss: 0.3030 - accuracy: 0.9314 - val_loss: 0.6070 - val_accuracy: 0.8489\n",
      "Epoch 11/100\n",
      "44/44 [==============================] - 0s 4ms/step - loss: 0.3028 - accuracy: 0.9300 - val_loss: 0.6057 - val_accuracy: 0.8413\n",
      "Epoch 12/100\n",
      "44/44 [==============================] - 0s 4ms/step - loss: 0.2978 - accuracy: 0.9329 - val_loss: 0.6052 - val_accuracy: 0.8463\n",
      "Epoch 13/100\n",
      "44/44 [==============================] - 0s 3ms/step - loss: 0.2992 - accuracy: 0.9329 - val_loss: 0.6011 - val_accuracy: 0.8438\n",
      "Epoch 14/100\n",
      "44/44 [==============================] - 0s 3ms/step - loss: 0.2962 - accuracy: 0.9321 - val_loss: 0.5992 - val_accuracy: 0.8463\n",
      "Epoch 15/100\n",
      "44/44 [==============================] - 0s 4ms/step - loss: 0.2962 - accuracy: 0.9343 - val_loss: 0.6020 - val_accuracy: 0.8489\n",
      "Epoch 16/100\n",
      "44/44 [==============================] - 0s 3ms/step - loss: 0.2926 - accuracy: 0.9343 - val_loss: 0.6052 - val_accuracy: 0.8463\n",
      "Epoch 17/100\n",
      "44/44 [==============================] - 0s 3ms/step - loss: 0.2938 - accuracy: 0.9314 - val_loss: 0.6005 - val_accuracy: 0.8463\n",
      "Epoch 18/100\n",
      "44/44 [==============================] - 0s 3ms/step - loss: 0.2906 - accuracy: 0.9336 - val_loss: 0.5997 - val_accuracy: 0.8438\n",
      "Epoch 19/100\n",
      "44/44 [==============================] - 0s 3ms/step - loss: 0.2894 - accuracy: 0.9329 - val_loss: 0.5958 - val_accuracy: 0.8463\n",
      "Epoch 20/100\n",
      "44/44 [==============================] - 0s 3ms/step - loss: 0.2876 - accuracy: 0.9371 - val_loss: 0.5936 - val_accuracy: 0.8463\n",
      "Epoch 21/100\n",
      "44/44 [==============================] - 0s 3ms/step - loss: 0.2859 - accuracy: 0.9343 - val_loss: 0.5943 - val_accuracy: 0.8539\n",
      "Epoch 22/100\n",
      "44/44 [==============================] - 0s 3ms/step - loss: 0.2842 - accuracy: 0.9357 - val_loss: 0.5984 - val_accuracy: 0.8463\n",
      "Epoch 23/100\n",
      "44/44 [==============================] - 0s 3ms/step - loss: 0.2838 - accuracy: 0.9343 - val_loss: 0.5930 - val_accuracy: 0.8489\n",
      "Epoch 24/100\n",
      "44/44 [==============================] - 0s 3ms/step - loss: 0.2826 - accuracy: 0.9386 - val_loss: 0.5919 - val_accuracy: 0.8489\n",
      "Epoch 25/100\n",
      "44/44 [==============================] - 0s 3ms/step - loss: 0.2810 - accuracy: 0.9343 - val_loss: 0.5905 - val_accuracy: 0.8514\n",
      "Epoch 26/100\n",
      "44/44 [==============================] - 0s 3ms/step - loss: 0.2797 - accuracy: 0.9329 - val_loss: 0.5925 - val_accuracy: 0.8438\n",
      "Epoch 27/100\n",
      "44/44 [==============================] - 0s 3ms/step - loss: 0.2780 - accuracy: 0.9336 - val_loss: 0.5914 - val_accuracy: 0.8489\n",
      "Epoch 28/100\n",
      "44/44 [==============================] - 0s 3ms/step - loss: 0.2773 - accuracy: 0.9364 - val_loss: 0.5883 - val_accuracy: 0.8514\n",
      "Epoch 29/100\n",
      "44/44 [==============================] - 0s 3ms/step - loss: 0.2755 - accuracy: 0.9357 - val_loss: 0.5856 - val_accuracy: 0.8514\n",
      "Epoch 30/100\n",
      "44/44 [==============================] - 0s 3ms/step - loss: 0.2755 - accuracy: 0.9371 - val_loss: 0.5921 - val_accuracy: 0.8438\n",
      "Epoch 31/100\n",
      "44/44 [==============================] - 0s 3ms/step - loss: 0.2738 - accuracy: 0.9371 - val_loss: 0.5898 - val_accuracy: 0.8489\n",
      "Epoch 32/100\n",
      "44/44 [==============================] - 0s 3ms/step - loss: 0.2717 - accuracy: 0.9393 - val_loss: 0.5895 - val_accuracy: 0.8438\n",
      "Epoch 33/100\n",
      "44/44 [==============================] - 0s 3ms/step - loss: 0.2703 - accuracy: 0.9421 - val_loss: 0.5901 - val_accuracy: 0.8463\n",
      "Epoch 34/100\n",
      "44/44 [==============================] - 0s 3ms/step - loss: 0.2683 - accuracy: 0.9357 - val_loss: 0.5833 - val_accuracy: 0.8514\n",
      "Epoch 35/100\n",
      "44/44 [==============================] - 0s 3ms/step - loss: 0.2673 - accuracy: 0.9357 - val_loss: 0.5846 - val_accuracy: 0.8463\n",
      "Epoch 36/100\n",
      "44/44 [==============================] - 0s 3ms/step - loss: 0.2661 - accuracy: 0.9379 - val_loss: 0.5856 - val_accuracy: 0.8489\n",
      "Epoch 37/100\n",
      "44/44 [==============================] - 0s 3ms/step - loss: 0.2659 - accuracy: 0.9393 - val_loss: 0.5839 - val_accuracy: 0.8463\n",
      "Epoch 38/100\n",
      "44/44 [==============================] - 0s 3ms/step - loss: 0.2631 - accuracy: 0.9386 - val_loss: 0.5834 - val_accuracy: 0.8438\n",
      "Epoch 39/100\n",
      "44/44 [==============================] - 0s 3ms/step - loss: 0.2620 - accuracy: 0.9393 - val_loss: 0.5819 - val_accuracy: 0.8539\n",
      "Epoch 40/100\n",
      "44/44 [==============================] - 0s 3ms/step - loss: 0.2610 - accuracy: 0.9407 - val_loss: 0.5875 - val_accuracy: 0.8463\n",
      "Epoch 41/100\n",
      "44/44 [==============================] - 0s 3ms/step - loss: 0.2597 - accuracy: 0.9386 - val_loss: 0.5760 - val_accuracy: 0.8539\n",
      "Epoch 42/100\n",
      "44/44 [==============================] - 0s 3ms/step - loss: 0.2591 - accuracy: 0.9429 - val_loss: 0.5774 - val_accuracy: 0.8514\n",
      "Epoch 43/100\n",
      "44/44 [==============================] - 0s 3ms/step - loss: 0.2583 - accuracy: 0.9386 - val_loss: 0.5769 - val_accuracy: 0.8564\n",
      "Epoch 44/100\n",
      "44/44 [==============================] - 0s 3ms/step - loss: 0.2563 - accuracy: 0.9421 - val_loss: 0.5778 - val_accuracy: 0.8564\n",
      "Epoch 45/100\n",
      "44/44 [==============================] - 0s 3ms/step - loss: 0.2550 - accuracy: 0.9393 - val_loss: 0.5741 - val_accuracy: 0.8514\n",
      "Epoch 46/100\n",
      "44/44 [==============================] - 0s 3ms/step - loss: 0.2547 - accuracy: 0.9407 - val_loss: 0.5765 - val_accuracy: 0.8489\n",
      "Epoch 47/100\n",
      "44/44 [==============================] - 0s 3ms/step - loss: 0.2530 - accuracy: 0.9407 - val_loss: 0.5743 - val_accuracy: 0.8589\n",
      "Epoch 48/100\n",
      "44/44 [==============================] - 0s 3ms/step - loss: 0.2513 - accuracy: 0.9464 - val_loss: 0.5781 - val_accuracy: 0.8539\n",
      "Epoch 49/100\n",
      "44/44 [==============================] - 0s 3ms/step - loss: 0.2519 - accuracy: 0.9407 - val_loss: 0.5811 - val_accuracy: 0.8489\n",
      "Epoch 50/100\n",
      "44/44 [==============================] - 0s 3ms/step - loss: 0.2490 - accuracy: 0.9414 - val_loss: 0.5730 - val_accuracy: 0.8589\n",
      "Epoch 51/100\n",
      "44/44 [==============================] - 0s 3ms/step - loss: 0.2471 - accuracy: 0.9443 - val_loss: 0.5756 - val_accuracy: 0.8514\n",
      "Epoch 52/100\n",
      "44/44 [==============================] - 0s 3ms/step - loss: 0.2476 - accuracy: 0.9414 - val_loss: 0.5762 - val_accuracy: 0.8514\n",
      "Epoch 53/100\n",
      "44/44 [==============================] - 0s 3ms/step - loss: 0.2471 - accuracy: 0.9443 - val_loss: 0.5723 - val_accuracy: 0.8514\n",
      "Epoch 54/100\n",
      "44/44 [==============================] - 0s 3ms/step - loss: 0.2462 - accuracy: 0.9443 - val_loss: 0.5789 - val_accuracy: 0.8539\n",
      "Epoch 55/100\n",
      "44/44 [==============================] - 0s 3ms/step - loss: 0.2441 - accuracy: 0.9471 - val_loss: 0.5770 - val_accuracy: 0.8514\n",
      "Epoch 56/100\n",
      "44/44 [==============================] - 0s 3ms/step - loss: 0.2430 - accuracy: 0.9450 - val_loss: 0.5695 - val_accuracy: 0.8514\n",
      "Epoch 57/100\n",
      "44/44 [==============================] - 0s 3ms/step - loss: 0.2424 - accuracy: 0.9471 - val_loss: 0.5686 - val_accuracy: 0.8539\n",
      "Epoch 58/100\n",
      "44/44 [==============================] - 0s 3ms/step - loss: 0.2416 - accuracy: 0.9471 - val_loss: 0.5713 - val_accuracy: 0.8539\n",
      "Epoch 59/100\n",
      "44/44 [==============================] - 0s 3ms/step - loss: 0.2415 - accuracy: 0.9457 - val_loss: 0.5723 - val_accuracy: 0.8514\n",
      "Epoch 60/100\n",
      "44/44 [==============================] - 0s 3ms/step - loss: 0.2391 - accuracy: 0.9436 - val_loss: 0.5696 - val_accuracy: 0.8589\n",
      "Epoch 61/100\n",
      "44/44 [==============================] - 0s 3ms/step - loss: 0.2381 - accuracy: 0.9436 - val_loss: 0.5617 - val_accuracy: 0.8539\n",
      "Epoch 62/100\n",
      "44/44 [==============================] - 0s 3ms/step - loss: 0.2370 - accuracy: 0.9443 - val_loss: 0.5691 - val_accuracy: 0.8564\n",
      "Epoch 63/100\n",
      "44/44 [==============================] - 0s 5ms/step - loss: 0.2360 - accuracy: 0.9450 - val_loss: 0.5667 - val_accuracy: 0.8514\n",
      "Epoch 64/100\n",
      "44/44 [==============================] - 0s 3ms/step - loss: 0.2361 - accuracy: 0.9443 - val_loss: 0.5668 - val_accuracy: 0.8514\n",
      "Epoch 65/100\n",
      "44/44 [==============================] - 0s 3ms/step - loss: 0.2348 - accuracy: 0.9436 - val_loss: 0.5621 - val_accuracy: 0.8564\n",
      "Epoch 66/100\n",
      "44/44 [==============================] - 0s 3ms/step - loss: 0.2336 - accuracy: 0.9450 - val_loss: 0.5660 - val_accuracy: 0.8564\n",
      "Epoch 67/100\n",
      "44/44 [==============================] - 0s 3ms/step - loss: 0.2327 - accuracy: 0.9429 - val_loss: 0.5590 - val_accuracy: 0.8564\n",
      "Epoch 68/100\n",
      "44/44 [==============================] - 0s 3ms/step - loss: 0.2323 - accuracy: 0.9450 - val_loss: 0.5643 - val_accuracy: 0.8539\n",
      "Epoch 69/100\n",
      "44/44 [==============================] - 0s 3ms/step - loss: 0.2305 - accuracy: 0.9479 - val_loss: 0.5623 - val_accuracy: 0.8564\n",
      "Epoch 70/100\n",
      "44/44 [==============================] - 0s 3ms/step - loss: 0.2308 - accuracy: 0.9471 - val_loss: 0.5624 - val_accuracy: 0.8564\n",
      "Epoch 71/100\n",
      "44/44 [==============================] - 0s 3ms/step - loss: 0.2288 - accuracy: 0.9457 - val_loss: 0.5661 - val_accuracy: 0.8514\n",
      "Epoch 72/100\n",
      "44/44 [==============================] - 0s 3ms/step - loss: 0.2275 - accuracy: 0.9436 - val_loss: 0.5597 - val_accuracy: 0.8564\n",
      "Epoch 73/100\n",
      "44/44 [==============================] - 0s 3ms/step - loss: 0.2268 - accuracy: 0.9436 - val_loss: 0.5593 - val_accuracy: 0.8539\n",
      "Epoch 74/100\n",
      "44/44 [==============================] - 0s 3ms/step - loss: 0.2272 - accuracy: 0.9457 - val_loss: 0.5584 - val_accuracy: 0.8514\n",
      "Epoch 75/100\n",
      "44/44 [==============================] - 0s 3ms/step - loss: 0.2253 - accuracy: 0.9507 - val_loss: 0.5563 - val_accuracy: 0.8539\n",
      "Epoch 76/100\n",
      "44/44 [==============================] - 0s 3ms/step - loss: 0.2241 - accuracy: 0.9479 - val_loss: 0.5603 - val_accuracy: 0.8539\n",
      "Epoch 77/100\n",
      "44/44 [==============================] - 0s 3ms/step - loss: 0.2241 - accuracy: 0.9450 - val_loss: 0.5584 - val_accuracy: 0.8564\n",
      "Epoch 78/100\n",
      "44/44 [==============================] - 0s 3ms/step - loss: 0.2224 - accuracy: 0.9486 - val_loss: 0.5637 - val_accuracy: 0.8564\n",
      "Epoch 79/100\n",
      "44/44 [==============================] - 0s 3ms/step - loss: 0.2225 - accuracy: 0.9471 - val_loss: 0.5547 - val_accuracy: 0.8640\n",
      "Epoch 80/100\n",
      "44/44 [==============================] - 0s 3ms/step - loss: 0.2209 - accuracy: 0.9464 - val_loss: 0.5599 - val_accuracy: 0.8589\n",
      "Epoch 81/100\n",
      "44/44 [==============================] - 0s 3ms/step - loss: 0.2196 - accuracy: 0.9514 - val_loss: 0.5551 - val_accuracy: 0.8564\n",
      "Epoch 82/100\n",
      "44/44 [==============================] - 0s 3ms/step - loss: 0.2195 - accuracy: 0.9464 - val_loss: 0.5609 - val_accuracy: 0.8564\n",
      "Epoch 83/100\n",
      "44/44 [==============================] - 0s 3ms/step - loss: 0.2196 - accuracy: 0.9500 - val_loss: 0.5591 - val_accuracy: 0.8564\n",
      "Epoch 84/100\n",
      "44/44 [==============================] - 0s 3ms/step - loss: 0.2187 - accuracy: 0.9486 - val_loss: 0.5509 - val_accuracy: 0.8615\n",
      "Epoch 85/100\n",
      "44/44 [==============================] - 0s 3ms/step - loss: 0.2166 - accuracy: 0.9493 - val_loss: 0.5594 - val_accuracy: 0.8539\n",
      "Epoch 86/100\n",
      "44/44 [==============================] - 0s 3ms/step - loss: 0.2177 - accuracy: 0.9450 - val_loss: 0.5515 - val_accuracy: 0.8589\n",
      "Epoch 87/100\n",
      "44/44 [==============================] - 0s 3ms/step - loss: 0.2151 - accuracy: 0.9500 - val_loss: 0.5533 - val_accuracy: 0.8615\n",
      "Epoch 88/100\n",
      "44/44 [==============================] - 0s 3ms/step - loss: 0.2148 - accuracy: 0.9507 - val_loss: 0.5474 - val_accuracy: 0.8640\n",
      "Epoch 89/100\n",
      "44/44 [==============================] - 0s 3ms/step - loss: 0.2129 - accuracy: 0.9493 - val_loss: 0.5478 - val_accuracy: 0.8564\n",
      "Epoch 90/100\n",
      "44/44 [==============================] - 0s 3ms/step - loss: 0.2129 - accuracy: 0.9507 - val_loss: 0.5508 - val_accuracy: 0.8589\n",
      "Epoch 91/100\n",
      "44/44 [==============================] - 0s 3ms/step - loss: 0.2124 - accuracy: 0.9529 - val_loss: 0.5545 - val_accuracy: 0.8564\n",
      "Epoch 92/100\n",
      "44/44 [==============================] - 0s 3ms/step - loss: 0.2120 - accuracy: 0.9500 - val_loss: 0.5508 - val_accuracy: 0.8589\n",
      "Epoch 93/100\n",
      "44/44 [==============================] - 0s 3ms/step - loss: 0.2107 - accuracy: 0.9486 - val_loss: 0.5496 - val_accuracy: 0.8564\n",
      "Epoch 94/100\n",
      "44/44 [==============================] - 0s 3ms/step - loss: 0.2104 - accuracy: 0.9500 - val_loss: 0.5491 - val_accuracy: 0.8615\n",
      "Epoch 95/100\n",
      "44/44 [==============================] - 0s 3ms/step - loss: 0.2107 - accuracy: 0.9493 - val_loss: 0.5465 - val_accuracy: 0.8589\n",
      "Epoch 96/100\n",
      "44/44 [==============================] - 0s 3ms/step - loss: 0.2084 - accuracy: 0.9507 - val_loss: 0.5414 - val_accuracy: 0.8615\n",
      "Epoch 97/100\n",
      "44/44 [==============================] - 0s 3ms/step - loss: 0.2068 - accuracy: 0.9464 - val_loss: 0.5557 - val_accuracy: 0.8564\n",
      "Epoch 98/100\n",
      "44/44 [==============================] - 0s 3ms/step - loss: 0.2079 - accuracy: 0.9500 - val_loss: 0.5500 - val_accuracy: 0.8615\n",
      "Epoch 99/100\n",
      "44/44 [==============================] - 0s 3ms/step - loss: 0.2058 - accuracy: 0.9507 - val_loss: 0.5476 - val_accuracy: 0.8564\n",
      "Epoch 100/100\n",
      "44/44 [==============================] - 0s 4ms/step - loss: 0.2061 - accuracy: 0.9493 - val_loss: 0.5422 - val_accuracy: 0.8615\n"
     ]
    }
   ],
   "source": [
    "model_history=model.fit(X_train,y_train,epochs=100,validation_data=(X_test,y_test))"
   ]
  },
  {
   "cell_type": "code",
   "execution_count": 48,
   "metadata": {},
   "outputs": [
    {
     "data": {
      "text/plain": [
       "{'verbose': 1, 'epochs': 100, 'steps': 44}"
      ]
     },
     "execution_count": 48,
     "metadata": {},
     "output_type": "execute_result"
    }
   ],
   "source": [
    "model_history.params"
   ]
  },
  {
   "cell_type": "code",
   "execution_count": 49,
   "metadata": {},
   "outputs": [
    {
     "data": {
      "text/plain": [
       "{'loss': [0.3195732533931732,\n",
       "  0.3174563944339752,\n",
       "  0.3150222599506378,\n",
       "  0.31405848264694214,\n",
       "  0.311124712228775,\n",
       "  0.3100067675113678,\n",
       "  0.30823439359664917,\n",
       "  0.3072003424167633,\n",
       "  0.3054901957511902,\n",
       "  0.302963525056839,\n",
       "  0.30278071761131287,\n",
       "  0.2977951765060425,\n",
       "  0.299159973859787,\n",
       "  0.29619625210762024,\n",
       "  0.29623347520828247,\n",
       "  0.2926400899887085,\n",
       "  0.2937634587287903,\n",
       "  0.2905951738357544,\n",
       "  0.28940480947494507,\n",
       "  0.28757596015930176,\n",
       "  0.2859313189983368,\n",
       "  0.28422078490257263,\n",
       "  0.2837648093700409,\n",
       "  0.2826076149940491,\n",
       "  0.2809622287750244,\n",
       "  0.2797420024871826,\n",
       "  0.2780150771141052,\n",
       "  0.2773262560367584,\n",
       "  0.2754861116409302,\n",
       "  0.27545830607414246,\n",
       "  0.27375486493110657,\n",
       "  0.2717268466949463,\n",
       "  0.27034950256347656,\n",
       "  0.2682691812515259,\n",
       "  0.26733848452568054,\n",
       "  0.2660926878452301,\n",
       "  0.26594337821006775,\n",
       "  0.26314499974250793,\n",
       "  0.2620371878147125,\n",
       "  0.26101264357566833,\n",
       "  0.25965556502342224,\n",
       "  0.25911447405815125,\n",
       "  0.2583351135253906,\n",
       "  0.25631287693977356,\n",
       "  0.2549660801887512,\n",
       "  0.25467175245285034,\n",
       "  0.2530360519886017,\n",
       "  0.2512539327144623,\n",
       "  0.2518955171108246,\n",
       "  0.24899804592132568,\n",
       "  0.24711133539676666,\n",
       "  0.24762937426567078,\n",
       "  0.2471236288547516,\n",
       "  0.24623583257198334,\n",
       "  0.24409669637680054,\n",
       "  0.24302241206169128,\n",
       "  0.24241812527179718,\n",
       "  0.24160870909690857,\n",
       "  0.24147748947143555,\n",
       "  0.23912297189235687,\n",
       "  0.23812219500541687,\n",
       "  0.23696193099021912,\n",
       "  0.2360362857580185,\n",
       "  0.23609013855457306,\n",
       "  0.23483550548553467,\n",
       "  0.23355922102928162,\n",
       "  0.2327067106962204,\n",
       "  0.23225364089012146,\n",
       "  0.2304944545030594,\n",
       "  0.23081959784030914,\n",
       "  0.22878040373325348,\n",
       "  0.22751085460186005,\n",
       "  0.2267647385597229,\n",
       "  0.22715458273887634,\n",
       "  0.22529682517051697,\n",
       "  0.22413697838783264,\n",
       "  0.22412046790122986,\n",
       "  0.2223670333623886,\n",
       "  0.22247286140918732,\n",
       "  0.2208516150712967,\n",
       "  0.21961230039596558,\n",
       "  0.21945327520370483,\n",
       "  0.2196294665336609,\n",
       "  0.21871449053287506,\n",
       "  0.21658697724342346,\n",
       "  0.217674121260643,\n",
       "  0.21513132750988007,\n",
       "  0.2148112654685974,\n",
       "  0.21288318932056427,\n",
       "  0.2128879725933075,\n",
       "  0.21237172186374664,\n",
       "  0.21201097965240479,\n",
       "  0.2107359766960144,\n",
       "  0.2103922814130783,\n",
       "  0.21074479818344116,\n",
       "  0.20836955308914185,\n",
       "  0.20675842463970184,\n",
       "  0.20790402591228485,\n",
       "  0.20575055480003357,\n",
       "  0.2060811072587967],\n",
       " 'accuracy': [0.9314285516738892,\n",
       "  0.925000011920929,\n",
       "  0.9314285516738892,\n",
       "  0.933571457862854,\n",
       "  0.9285714030265808,\n",
       "  0.9314285516738892,\n",
       "  0.9321428537368774,\n",
       "  0.933571457862854,\n",
       "  0.9314285516738892,\n",
       "  0.9314285516738892,\n",
       "  0.9300000071525574,\n",
       "  0.9328571557998657,\n",
       "  0.9328571557998657,\n",
       "  0.9321428537368774,\n",
       "  0.9342857003211975,\n",
       "  0.9342857003211975,\n",
       "  0.9314285516738892,\n",
       "  0.933571457862854,\n",
       "  0.9328571557998657,\n",
       "  0.9371428489685059,\n",
       "  0.9342857003211975,\n",
       "  0.9357143044471741,\n",
       "  0.9342857003211975,\n",
       "  0.9385714530944824,\n",
       "  0.9342857003211975,\n",
       "  0.9328571557998657,\n",
       "  0.933571457862854,\n",
       "  0.9364285469055176,\n",
       "  0.9357143044471741,\n",
       "  0.9371428489685059,\n",
       "  0.9371428489685059,\n",
       "  0.9392856955528259,\n",
       "  0.9421428442001343,\n",
       "  0.9357143044471741,\n",
       "  0.9357143044471741,\n",
       "  0.9378571510314941,\n",
       "  0.9392856955528259,\n",
       "  0.9385714530944824,\n",
       "  0.9392856955528259,\n",
       "  0.9407142996788025,\n",
       "  0.9385714530944824,\n",
       "  0.9428571462631226,\n",
       "  0.9385714530944824,\n",
       "  0.9421428442001343,\n",
       "  0.9392856955528259,\n",
       "  0.9407142996788025,\n",
       "  0.9407142996788025,\n",
       "  0.9464285969734192,\n",
       "  0.9407142996788025,\n",
       "  0.941428542137146,\n",
       "  0.9442856907844543,\n",
       "  0.941428542137146,\n",
       "  0.9442856907844543,\n",
       "  0.9442856907844543,\n",
       "  0.9471428394317627,\n",
       "  0.9449999928474426,\n",
       "  0.9471428394317627,\n",
       "  0.9471428394317627,\n",
       "  0.9457142949104309,\n",
       "  0.9435714483261108,\n",
       "  0.9435714483261108,\n",
       "  0.9442856907844543,\n",
       "  0.9449999928474426,\n",
       "  0.9442856907844543,\n",
       "  0.9435714483261108,\n",
       "  0.9449999928474426,\n",
       "  0.9428571462631226,\n",
       "  0.9449999928474426,\n",
       "  0.947857141494751,\n",
       "  0.9471428394317627,\n",
       "  0.9457142949104309,\n",
       "  0.9435714483261108,\n",
       "  0.9435714483261108,\n",
       "  0.9457142949104309,\n",
       "  0.9507142901420593,\n",
       "  0.947857141494751,\n",
       "  0.9449999928474426,\n",
       "  0.9485714435577393,\n",
       "  0.9471428394317627,\n",
       "  0.9464285969734192,\n",
       "  0.9514285922050476,\n",
       "  0.9464285969734192,\n",
       "  0.949999988079071,\n",
       "  0.9485714435577393,\n",
       "  0.9492856860160828,\n",
       "  0.9449999928474426,\n",
       "  0.949999988079071,\n",
       "  0.9507142901420593,\n",
       "  0.9492856860160828,\n",
       "  0.9507142901420593,\n",
       "  0.9528571367263794,\n",
       "  0.949999988079071,\n",
       "  0.9485714435577393,\n",
       "  0.949999988079071,\n",
       "  0.9492856860160828,\n",
       "  0.9507142901420593,\n",
       "  0.9464285969734192,\n",
       "  0.949999988079071,\n",
       "  0.9507142901420593,\n",
       "  0.9492856860160828],\n",
       " 'val_loss': [0.6138732433319092,\n",
       "  0.6145033240318298,\n",
       "  0.6181500554084778,\n",
       "  0.60954749584198,\n",
       "  0.6046334505081177,\n",
       "  0.6077021956443787,\n",
       "  0.6081715226173401,\n",
       "  0.6067739725112915,\n",
       "  0.6018310189247131,\n",
       "  0.6070260405540466,\n",
       "  0.6057055592536926,\n",
       "  0.6052047610282898,\n",
       "  0.6010713577270508,\n",
       "  0.5991685390472412,\n",
       "  0.6019533276557922,\n",
       "  0.6052482724189758,\n",
       "  0.6005368828773499,\n",
       "  0.5996869206428528,\n",
       "  0.5958357453346252,\n",
       "  0.5935890078544617,\n",
       "  0.5942937135696411,\n",
       "  0.5983654856681824,\n",
       "  0.5930191278457642,\n",
       "  0.5919250249862671,\n",
       "  0.5904696583747864,\n",
       "  0.592474102973938,\n",
       "  0.5913642644882202,\n",
       "  0.5883023142814636,\n",
       "  0.585644006729126,\n",
       "  0.5921400785446167,\n",
       "  0.5898095965385437,\n",
       "  0.5895127058029175,\n",
       "  0.5900753736495972,\n",
       "  0.583270251750946,\n",
       "  0.5845874547958374,\n",
       "  0.5856439471244812,\n",
       "  0.5838715434074402,\n",
       "  0.5833791494369507,\n",
       "  0.5819425582885742,\n",
       "  0.5874812602996826,\n",
       "  0.5759903788566589,\n",
       "  0.5773828625679016,\n",
       "  0.5768649578094482,\n",
       "  0.5777590274810791,\n",
       "  0.5740658640861511,\n",
       "  0.5765483379364014,\n",
       "  0.5743004083633423,\n",
       "  0.5780631899833679,\n",
       "  0.5810717344284058,\n",
       "  0.5730191469192505,\n",
       "  0.5755946636199951,\n",
       "  0.5761609673500061,\n",
       "  0.5723275542259216,\n",
       "  0.5788568258285522,\n",
       "  0.5769830346107483,\n",
       "  0.5694659352302551,\n",
       "  0.5685765147209167,\n",
       "  0.5713120698928833,\n",
       "  0.5723273754119873,\n",
       "  0.5696238279342651,\n",
       "  0.5616792440414429,\n",
       "  0.5691396594047546,\n",
       "  0.5666624307632446,\n",
       "  0.5668449997901917,\n",
       "  0.5621209740638733,\n",
       "  0.5660168528556824,\n",
       "  0.558981716632843,\n",
       "  0.5643381476402283,\n",
       "  0.5623186826705933,\n",
       "  0.5624154806137085,\n",
       "  0.5661233067512512,\n",
       "  0.559707760810852,\n",
       "  0.5593011379241943,\n",
       "  0.5583938956260681,\n",
       "  0.5563374757766724,\n",
       "  0.5603297352790833,\n",
       "  0.5584351420402527,\n",
       "  0.5637242794036865,\n",
       "  0.5547376871109009,\n",
       "  0.5599391460418701,\n",
       "  0.5550676584243774,\n",
       "  0.5608840584754944,\n",
       "  0.5590698719024658,\n",
       "  0.5509219169616699,\n",
       "  0.5593762397766113,\n",
       "  0.5515176057815552,\n",
       "  0.5533072352409363,\n",
       "  0.5473859310150146,\n",
       "  0.5478440523147583,\n",
       "  0.5507875680923462,\n",
       "  0.5544549822807312,\n",
       "  0.5507697463035583,\n",
       "  0.5495946407318115,\n",
       "  0.5490753650665283,\n",
       "  0.5465417504310608,\n",
       "  0.5413563251495361,\n",
       "  0.5556994080543518,\n",
       "  0.5500179529190063,\n",
       "  0.5475974082946777,\n",
       "  0.5421712398529053],\n",
       " 'val_accuracy': [0.8438287377357483,\n",
       "  0.8387909531593323,\n",
       "  0.8438287377357483,\n",
       "  0.8413098454475403,\n",
       "  0.8513854146003723,\n",
       "  0.8413098454475403,\n",
       "  0.8413098454475403,\n",
       "  0.8438287377357483,\n",
       "  0.8488665223121643,\n",
       "  0.8488665223121643,\n",
       "  0.8413098454475403,\n",
       "  0.8463476300239563,\n",
       "  0.8438287377357483,\n",
       "  0.8463476300239563,\n",
       "  0.8488665223121643,\n",
       "  0.8463476300239563,\n",
       "  0.8463476300239563,\n",
       "  0.8438287377357483,\n",
       "  0.8463476300239563,\n",
       "  0.8463476300239563,\n",
       "  0.8539043068885803,\n",
       "  0.8463476300239563,\n",
       "  0.8488665223121643,\n",
       "  0.8488665223121643,\n",
       "  0.8513854146003723,\n",
       "  0.8438287377357483,\n",
       "  0.8488665223121643,\n",
       "  0.8513854146003723,\n",
       "  0.8513854146003723,\n",
       "  0.8438287377357483,\n",
       "  0.8488665223121643,\n",
       "  0.8438287377357483,\n",
       "  0.8463476300239563,\n",
       "  0.8513854146003723,\n",
       "  0.8463476300239563,\n",
       "  0.8488665223121643,\n",
       "  0.8463476300239563,\n",
       "  0.8438287377357483,\n",
       "  0.8539043068885803,\n",
       "  0.8463476300239563,\n",
       "  0.8539043068885803,\n",
       "  0.8513854146003723,\n",
       "  0.8564231991767883,\n",
       "  0.8564231991767883,\n",
       "  0.8513854146003723,\n",
       "  0.8488665223121643,\n",
       "  0.8589420914649963,\n",
       "  0.8539043068885803,\n",
       "  0.8488665223121643,\n",
       "  0.8589420914649963,\n",
       "  0.8513854146003723,\n",
       "  0.8513854146003723,\n",
       "  0.8513854146003723,\n",
       "  0.8539043068885803,\n",
       "  0.8513854146003723,\n",
       "  0.8513854146003723,\n",
       "  0.8539043068885803,\n",
       "  0.8539043068885803,\n",
       "  0.8513854146003723,\n",
       "  0.8589420914649963,\n",
       "  0.8539043068885803,\n",
       "  0.8564231991767883,\n",
       "  0.8513854146003723,\n",
       "  0.8513854146003723,\n",
       "  0.8564231991767883,\n",
       "  0.8564231991767883,\n",
       "  0.8564231991767883,\n",
       "  0.8539043068885803,\n",
       "  0.8564231991767883,\n",
       "  0.8564231991767883,\n",
       "  0.8513854146003723,\n",
       "  0.8564231991767883,\n",
       "  0.8539043068885803,\n",
       "  0.8513854146003723,\n",
       "  0.8539043068885803,\n",
       "  0.8539043068885803,\n",
       "  0.8564231991767883,\n",
       "  0.8564231991767883,\n",
       "  0.8639798760414124,\n",
       "  0.8589420914649963,\n",
       "  0.8564231991767883,\n",
       "  0.8564231991767883,\n",
       "  0.8564231991767883,\n",
       "  0.8614609837532043,\n",
       "  0.8539043068885803,\n",
       "  0.8589420914649963,\n",
       "  0.8614609837532043,\n",
       "  0.8639798760414124,\n",
       "  0.8564231991767883,\n",
       "  0.8589420914649963,\n",
       "  0.8564231991767883,\n",
       "  0.8589420914649963,\n",
       "  0.8564231991767883,\n",
       "  0.8614609837532043,\n",
       "  0.8589420914649963,\n",
       "  0.8614609837532043,\n",
       "  0.8564231991767883,\n",
       "  0.8614609837532043,\n",
       "  0.8564231991767883,\n",
       "  0.8614609837532043]}"
      ]
     },
     "execution_count": 49,
     "metadata": {},
     "output_type": "execute_result"
    }
   ],
   "source": [
    "model_history.history"
   ]
  },
  {
   "cell_type": "code",
   "execution_count": 50,
   "metadata": {},
   "outputs": [
    {
     "data": {
      "image/png": "[encoded data removed]",
      "text/plain": [
       "<Figure size 576x360 with 1 Axes>"
      ]
     },
     "metadata": {
      "needs_background": "light"
     },
     "output_type": "display_data"
    }
   ],
   "source": [
    "pd.DataFrame(model_history.history).plot(figsize=(8,5))\n",
    "plt.grid(True)\n",
    "plt.gca().set_ylim(0,1)\n",
    "plt.show()"
   ]
  },
  {
   "cell_type": "code",
   "execution_count": 51,
   "metadata": {},
   "outputs": [
    {
     "name": "stdout",
     "output_type": "stream",
     "text": [
      "13/13 [==============================] - 0s 2ms/step - loss: 0.5422 - accuracy: 0.8615\n"
     ]
    },
    {
     "data": {
      "text/plain": [
       "[0.5421712398529053, 0.8614609837532043]"
      ]
     },
     "execution_count": 51,
     "metadata": {},
     "output_type": "execute_result"
    }
   ],
   "source": [
    "model.evaluate(X_test,y_test)"
   ]
  },
  {
   "cell_type": "code",
   "execution_count": 52,
   "metadata": {},
   "outputs": [],
   "source": [
    "X_new=X_test[:3]"
   ]
  },
  {
   "cell_type": "code",
   "execution_count": 53,
   "metadata": {},
   "outputs": [
    {
     "name": "stdout",
     "output_type": "stream",
     "text": [
      "WARNING:tensorflow:From <ipython-input-53-3306f3af3b8e>:1: Sequential.predict_classes (from tensorflow.python.keras.engine.sequential) is deprecated and will be removed after 2021-01-01.\n",
      "Instructions for updating:\n",
      "Please use instead:* `np.argmax(model.predict(x), axis=-1)`,   if your model does multi-class classification   (e.g. if it uses a `softmax` last-layer activation).* `(model.predict(x) > 0.5).astype(\"int32\")`,   if your model does binary classification   (e.g. if it uses a `sigmoid` last-layer activation).\n"
     ]
    },
    {
     "data": {
      "text/plain": [
       "array([2, 8, 2], dtype=int64)"
      ]
     },
     "execution_count": 53,
     "metadata": {},
     "output_type": "execute_result"
    }
   ],
   "source": [
    "y_pred=model.predict_classes(X_new)\n",
    "y_pred"
   ]
  },
  {
   "cell_type": "code",
   "execution_count": 54,
   "metadata": {},
   "outputs": [
    {
     "data": {
      "text/plain": [
       "array([2, 8, 2])"
      ]
     },
     "execution_count": 54,
     "metadata": {},
     "output_type": "execute_result"
    }
   ],
   "source": [
    "y_test[:3]"
   ]
  },
  {
   "cell_type": "code",
   "execution_count": null,
   "metadata": {},
   "outputs": [],
   "source": []
  }
 ],
 "metadata": {
  "kernelspec": {
   "display_name": "Python 3",
   "language": "python",
   "name": "python3"
  },
  "language_info": {
   "codemirror_mode": {
    "name": "ipython",
    "version": 3
   },
   "file_extension": ".py",
   "mimetype": "text/x-python",
   "name": "python",
   "nbconvert_exporter": "python",
   "pygments_lexer": "ipython3",
   "version": "3.7.6"
  }
 },
 "nbformat": 4,
 "nbformat_minor": 4
}
